{
 "cells": [
  {
   "cell_type": "code",
   "execution_count": null,
   "metadata": {
    "id": "d43LmKeElYQn"
   },
   "outputs": [],
   "source": [
    "# MLFA Assignment 1\n",
    "\n",
    "# Team Members - \n",
    "# Deepansh Agrawal - 19MI10018\n",
    "# Rohit Ranjan - 20CS30066\n",
    "# Neha Gupta - 20CH10094\n",
    "# Gautam Jaju - 20AG30015\n",
    "# Siddharth Madhupati - 20ME30083\n",
    "# Madiha Hanifa - 20MF10018\n",
    "# Himadri Pandya - 20ME10047"
   ]
  },
  {
   "cell_type": "code",
   "execution_count": 1,
   "metadata": {
    "id": "YVDHpZlYNM0p"
   },
   "outputs": [],
   "source": [
    "# import commands\n",
    "import numpy as np\n",
    "import pandas as pd\n",
    "import matplotlib.pyplot as plt\n",
    "import statistics\n",
    "from statistics import mode\n",
    "from sklearn.neighbors import NearestNeighbors"
   ]
  },
  {
   "cell_type": "code",
   "execution_count": 2,
   "metadata": {
    "colab": {
     "base_uri": "https://localhost:8080/"
    },
    "id": "ssF2P_cDO5j-",
    "outputId": "e405134b-693f-449d-850d-364acd0c04f4"
   },
   "outputs": [
    {
     "name": "stdout",
     "output_type": "stream",
     "text": [
      "Requirement already satisfied: wget in /usr/local/lib/python3.7/dist-packages (3.2)\n"
     ]
    }
   ],
   "source": [
    "# installing wget on Colab then downloading dataset\n",
    "!pip install wget\n",
    "import wget\n",
    "url = 'https://archive.ics.uci.edu/ml/machine-learning-databases/00537/sobar-72.csv'\n",
    "filename = wget.download(url)"
   ]
  },
  {
   "cell_type": "code",
   "execution_count": 3,
   "metadata": {
    "colab": {
     "base_uri": "https://localhost:8080/"
    },
    "id": "EU6pQXtVNY0C",
    "outputId": "33b1ae00-0100-40e3-e883-cb291ca3fee0"
   },
   "outputs": [
    {
     "data": {
      "text/plain": [
       "(72, 20)"
      ]
     },
     "execution_count": 3,
     "metadata": {},
     "output_type": "execute_result"
    }
   ],
   "source": [
    "df = pd.read_csv('sobar-72.csv')\n",
    "df.shape"
   ]
  },
  {
   "cell_type": "code",
   "execution_count": 4,
   "metadata": {
    "colab": {
     "base_uri": "https://localhost:8080/",
     "height": 270
    },
    "id": "-vMaGbCtNY2_",
    "outputId": "7580e931-203d-4a63-fff2-363a256a2cde"
   },
   "outputs": [
    {
     "data": {
      "text/html": [
       "\n",
       "  <div id=\"df-e88ec122-9f52-4427-a29f-a0516a93e960\">\n",
       "    <div class=\"colab-df-container\">\n",
       "      <div>\n",
       "<style scoped>\n",
       "    .dataframe tbody tr th:only-of-type {\n",
       "        vertical-align: middle;\n",
       "    }\n",
       "\n",
       "    .dataframe tbody tr th {\n",
       "        vertical-align: top;\n",
       "    }\n",
       "\n",
       "    .dataframe thead th {\n",
       "        text-align: right;\n",
       "    }\n",
       "</style>\n",
       "<table border=\"1\" class=\"dataframe\">\n",
       "  <thead>\n",
       "    <tr style=\"text-align: right;\">\n",
       "      <th></th>\n",
       "      <th>behavior_sexualRisk</th>\n",
       "      <th>behavior_eating</th>\n",
       "      <th>behavior_personalHygine</th>\n",
       "      <th>intention_aggregation</th>\n",
       "      <th>intention_commitment</th>\n",
       "      <th>attitude_consistency</th>\n",
       "      <th>attitude_spontaneity</th>\n",
       "      <th>norm_significantPerson</th>\n",
       "      <th>norm_fulfillment</th>\n",
       "      <th>perception_vulnerability</th>\n",
       "      <th>perception_severity</th>\n",
       "      <th>motivation_strength</th>\n",
       "      <th>motivation_willingness</th>\n",
       "      <th>socialSupport_emotionality</th>\n",
       "      <th>socialSupport_appreciation</th>\n",
       "      <th>socialSupport_instrumental</th>\n",
       "      <th>empowerment_knowledge</th>\n",
       "      <th>empowerment_abilities</th>\n",
       "      <th>empowerment_desires</th>\n",
       "      <th>ca_cervix</th>\n",
       "    </tr>\n",
       "  </thead>\n",
       "  <tbody>\n",
       "    <tr>\n",
       "      <th>0</th>\n",
       "      <td>10</td>\n",
       "      <td>13</td>\n",
       "      <td>12</td>\n",
       "      <td>4</td>\n",
       "      <td>7</td>\n",
       "      <td>9</td>\n",
       "      <td>10</td>\n",
       "      <td>1</td>\n",
       "      <td>8</td>\n",
       "      <td>7</td>\n",
       "      <td>3</td>\n",
       "      <td>14</td>\n",
       "      <td>8</td>\n",
       "      <td>5</td>\n",
       "      <td>7</td>\n",
       "      <td>12</td>\n",
       "      <td>12</td>\n",
       "      <td>11</td>\n",
       "      <td>8</td>\n",
       "      <td>1</td>\n",
       "    </tr>\n",
       "    <tr>\n",
       "      <th>1</th>\n",
       "      <td>10</td>\n",
       "      <td>11</td>\n",
       "      <td>11</td>\n",
       "      <td>10</td>\n",
       "      <td>14</td>\n",
       "      <td>7</td>\n",
       "      <td>7</td>\n",
       "      <td>5</td>\n",
       "      <td>5</td>\n",
       "      <td>4</td>\n",
       "      <td>2</td>\n",
       "      <td>15</td>\n",
       "      <td>13</td>\n",
       "      <td>7</td>\n",
       "      <td>6</td>\n",
       "      <td>5</td>\n",
       "      <td>5</td>\n",
       "      <td>4</td>\n",
       "      <td>4</td>\n",
       "      <td>1</td>\n",
       "    </tr>\n",
       "    <tr>\n",
       "      <th>2</th>\n",
       "      <td>10</td>\n",
       "      <td>15</td>\n",
       "      <td>3</td>\n",
       "      <td>2</td>\n",
       "      <td>14</td>\n",
       "      <td>8</td>\n",
       "      <td>10</td>\n",
       "      <td>1</td>\n",
       "      <td>4</td>\n",
       "      <td>7</td>\n",
       "      <td>2</td>\n",
       "      <td>7</td>\n",
       "      <td>3</td>\n",
       "      <td>3</td>\n",
       "      <td>6</td>\n",
       "      <td>11</td>\n",
       "      <td>3</td>\n",
       "      <td>3</td>\n",
       "      <td>15</td>\n",
       "      <td>1</td>\n",
       "    </tr>\n",
       "    <tr>\n",
       "      <th>3</th>\n",
       "      <td>10</td>\n",
       "      <td>11</td>\n",
       "      <td>10</td>\n",
       "      <td>10</td>\n",
       "      <td>15</td>\n",
       "      <td>7</td>\n",
       "      <td>7</td>\n",
       "      <td>1</td>\n",
       "      <td>5</td>\n",
       "      <td>4</td>\n",
       "      <td>2</td>\n",
       "      <td>15</td>\n",
       "      <td>13</td>\n",
       "      <td>7</td>\n",
       "      <td>4</td>\n",
       "      <td>4</td>\n",
       "      <td>4</td>\n",
       "      <td>4</td>\n",
       "      <td>4</td>\n",
       "      <td>1</td>\n",
       "    </tr>\n",
       "    <tr>\n",
       "      <th>4</th>\n",
       "      <td>8</td>\n",
       "      <td>11</td>\n",
       "      <td>7</td>\n",
       "      <td>8</td>\n",
       "      <td>10</td>\n",
       "      <td>7</td>\n",
       "      <td>8</td>\n",
       "      <td>1</td>\n",
       "      <td>5</td>\n",
       "      <td>3</td>\n",
       "      <td>2</td>\n",
       "      <td>15</td>\n",
       "      <td>5</td>\n",
       "      <td>3</td>\n",
       "      <td>6</td>\n",
       "      <td>12</td>\n",
       "      <td>5</td>\n",
       "      <td>4</td>\n",
       "      <td>7</td>\n",
       "      <td>1</td>\n",
       "    </tr>\n",
       "  </tbody>\n",
       "</table>\n",
       "</div>\n",
       "      <button class=\"colab-df-convert\" onclick=\"convertToInteractive('df-e88ec122-9f52-4427-a29f-a0516a93e960')\"\n",
       "              title=\"Convert this dataframe to an interactive table.\"\n",
       "              style=\"display:none;\">\n",
       "        \n",
       "  <svg xmlns=\"http://www.w3.org/2000/svg\" height=\"24px\"viewBox=\"0 0 24 24\"\n",
       "       width=\"24px\">\n",
       "    <path d=\"M0 0h24v24H0V0z\" fill=\"none\"/>\n",
       "    <path d=\"M18.56 5.44l.94 2.06.94-2.06 2.06-.94-2.06-.94-.94-2.06-.94 2.06-2.06.94zm-11 1L8.5 8.5l.94-2.06 2.06-.94-2.06-.94L8.5 2.5l-.94 2.06-2.06.94zm10 10l.94 2.06.94-2.06 2.06-.94-2.06-.94-.94-2.06-.94 2.06-2.06.94z\"/><path d=\"M17.41 7.96l-1.37-1.37c-.4-.4-.92-.59-1.43-.59-.52 0-1.04.2-1.43.59L10.3 9.45l-7.72 7.72c-.78.78-.78 2.05 0 2.83L4 21.41c.39.39.9.59 1.41.59.51 0 1.02-.2 1.41-.59l7.78-7.78 2.81-2.81c.8-.78.8-2.07 0-2.86zM5.41 20L4 18.59l7.72-7.72 1.47 1.35L5.41 20z\"/>\n",
       "  </svg>\n",
       "      </button>\n",
       "      \n",
       "  <style>\n",
       "    .colab-df-container {\n",
       "      display:flex;\n",
       "      flex-wrap:wrap;\n",
       "      gap: 12px;\n",
       "    }\n",
       "\n",
       "    .colab-df-convert {\n",
       "      background-color: #E8F0FE;\n",
       "      border: none;\n",
       "      border-radius: 50%;\n",
       "      cursor: pointer;\n",
       "      display: none;\n",
       "      fill: #1967D2;\n",
       "      height: 32px;\n",
       "      padding: 0 0 0 0;\n",
       "      width: 32px;\n",
       "    }\n",
       "\n",
       "    .colab-df-convert:hover {\n",
       "      background-color: #E2EBFA;\n",
       "      box-shadow: 0px 1px 2px rgba(60, 64, 67, 0.3), 0px 1px 3px 1px rgba(60, 64, 67, 0.15);\n",
       "      fill: #174EA6;\n",
       "    }\n",
       "\n",
       "    [theme=dark] .colab-df-convert {\n",
       "      background-color: #3B4455;\n",
       "      fill: #D2E3FC;\n",
       "    }\n",
       "\n",
       "    [theme=dark] .colab-df-convert:hover {\n",
       "      background-color: #434B5C;\n",
       "      box-shadow: 0px 1px 3px 1px rgba(0, 0, 0, 0.15);\n",
       "      filter: drop-shadow(0px 1px 2px rgba(0, 0, 0, 0.3));\n",
       "      fill: #FFFFFF;\n",
       "    }\n",
       "  </style>\n",
       "\n",
       "      <script>\n",
       "        const buttonEl =\n",
       "          document.querySelector('#df-e88ec122-9f52-4427-a29f-a0516a93e960 button.colab-df-convert');\n",
       "        buttonEl.style.display =\n",
       "          google.colab.kernel.accessAllowed ? 'block' : 'none';\n",
       "\n",
       "        async function convertToInteractive(key) {\n",
       "          const element = document.querySelector('#df-e88ec122-9f52-4427-a29f-a0516a93e960');\n",
       "          const dataTable =\n",
       "            await google.colab.kernel.invokeFunction('convertToInteractive',\n",
       "                                                     [key], {});\n",
       "          if (!dataTable) return;\n",
       "\n",
       "          const docLinkHtml = 'Like what you see? Visit the ' +\n",
       "            '<a target=\"_blank\" href=https://colab.research.google.com/notebooks/data_table.ipynb>data table notebook</a>'\n",
       "            + ' to learn more about interactive tables.';\n",
       "          element.innerHTML = '';\n",
       "          dataTable['output_type'] = 'display_data';\n",
       "          await google.colab.output.renderOutput(dataTable, element);\n",
       "          const docLink = document.createElement('div');\n",
       "          docLink.innerHTML = docLinkHtml;\n",
       "          element.appendChild(docLink);\n",
       "        }\n",
       "      </script>\n",
       "    </div>\n",
       "  </div>\n",
       "  "
      ],
      "text/plain": [
       "   behavior_sexualRisk  behavior_eating  ...  empowerment_desires  ca_cervix\n",
       "0                   10               13  ...                    8          1\n",
       "1                   10               11  ...                    4          1\n",
       "2                   10               15  ...                   15          1\n",
       "3                   10               11  ...                    4          1\n",
       "4                    8               11  ...                    7          1\n",
       "\n",
       "[5 rows x 20 columns]"
      ]
     },
     "execution_count": 4,
     "metadata": {},
     "output_type": "execute_result"
    }
   ],
   "source": [
    "df.head()"
   ]
  },
  {
   "cell_type": "code",
   "execution_count": 5,
   "metadata": {
    "id": "yk5lpnE9NY6a"
   },
   "outputs": [],
   "source": [
    "X = df.iloc[:,:-1]\n",
    "y = df.iloc[:,-1]"
   ]
  },
  {
   "cell_type": "code",
   "execution_count": 6,
   "metadata": {
    "id": "uZ8C_Iw_NY9Q"
   },
   "outputs": [],
   "source": [
    "# dividing train and test sets using specified instructions\n",
    "\n",
    "X_train = X[0:-15]\n",
    "y_train = y[0:-15]\n",
    "\n",
    "X_test = X[-15:]\n",
    "y_test = y[-15:]"
   ]
  },
  {
   "cell_type": "code",
   "execution_count": 7,
   "metadata": {
    "colab": {
     "base_uri": "https://localhost:8080/"
    },
    "id": "v2P6OSHgNY_0",
    "outputId": "41621e71-634c-46d3-c6b6-e241d916419b"
   },
   "outputs": [
    {
     "data": {
      "text/plain": [
       "(57, 19)"
      ]
     },
     "execution_count": 7,
     "metadata": {},
     "output_type": "execute_result"
    }
   ],
   "source": [
    "X_train.shape"
   ]
  },
  {
   "cell_type": "code",
   "execution_count": 8,
   "metadata": {
    "colab": {
     "base_uri": "https://localhost:8080/"
    },
    "id": "g-prBGR_NZCb",
    "outputId": "6ce7dbc7-e9fa-4424-b752-2671ea522037"
   },
   "outputs": [
    {
     "data": {
      "text/plain": [
       "(15, 19)"
      ]
     },
     "execution_count": 8,
     "metadata": {},
     "output_type": "execute_result"
    }
   ],
   "source": [
    "X_test.shape"
   ]
  },
  {
   "cell_type": "code",
   "execution_count": 9,
   "metadata": {
    "colab": {
     "base_uri": "https://localhost:8080/"
    },
    "id": "MtjaB2PkNZE7",
    "outputId": "91aef3e7-9e04-47f4-8034-0b164abe4a64"
   },
   "outputs": [
    {
     "data": {
      "text/plain": [
       "(57,)"
      ]
     },
     "execution_count": 9,
     "metadata": {},
     "output_type": "execute_result"
    }
   ],
   "source": [
    "y_train.shape"
   ]
  },
  {
   "cell_type": "code",
   "execution_count": 10,
   "metadata": {
    "colab": {
     "base_uri": "https://localhost:8080/"
    },
    "id": "RK5o2GXjNZH6",
    "outputId": "59aca711-5912-470e-fcb5-2babb26585a1"
   },
   "outputs": [
    {
     "data": {
      "text/plain": [
       "(15,)"
      ]
     },
     "execution_count": 10,
     "metadata": {},
     "output_type": "execute_result"
    }
   ],
   "source": [
    "y_test.shape"
   ]
  },
  {
   "cell_type": "code",
   "execution_count": 11,
   "metadata": {
    "id": "FJd5w_hdNZKX"
   },
   "outputs": [],
   "source": [
    "# utility function that returns euclidean distance between any two feature vectors\n",
    "def distance(a,b):\n",
    "    return np.sqrt(np.sum(np.square(a-b)))"
   ]
  },
  {
   "cell_type": "code",
   "execution_count": 12,
   "metadata": {
    "id": "SYL_9PsaNZM8"
   },
   "outputs": [],
   "source": [
    "# utility function that performs k-nn using  the set S \n",
    "# set S is generally the condensed set of data points with corresponding labels\n",
    "# x is the feature vector whose label is predicted\n",
    "# k is the number of nearest neihbours looked at\n",
    "def compute_label(S,x,k=1):\n",
    "    min_array = np.ones((len(S),))\n",
    "    for i in range(len(S)):\n",
    "        s = S[i,:-1]\n",
    "        min_array[i] = distance(s,x)\n",
    "    list1 = min_array.tolist()\n",
    "    list2 = S.tolist()\n",
    "    sorted_list = sorted(zip(list1, list2))\n",
    "    top_k_labels = [ sorted_list[i][1][-1] for i in range(k)]\n",
    "    label = mode(top_k_labels)\n",
    "    return label"
   ]
  },
  {
   "cell_type": "code",
   "execution_count": 13,
   "metadata": {
    "id": "61vigMzNNZPo"
   },
   "outputs": [],
   "source": [
    "# utility function for CNN algorithm\n",
    "# X is the set of feature vectors for all data points\n",
    "# y is the set of corresponding ground truth labels\n",
    "# returns set S which is the minimum consistent subset when starting with first member as the first data point\n",
    "def CNN(X,y):\n",
    "    S = list()\n",
    "    S.append(np.append(np.array(X.iloc[0,:]),y.iloc[0]).tolist())\n",
    "    while(True):\n",
    "        flag=0\n",
    "        for i in range(len(X)):\n",
    "            x = np.array(X.iloc[i,:])\n",
    "            ground_truth = y.iloc[i]\n",
    "            if(compute_label(np.array(S),x) != ground_truth):\n",
    "                S.append(np.append(x,y.iloc[i]).tolist())\n",
    "                flag=1\n",
    "                break\n",
    "        if(flag==1):\n",
    "            continue\n",
    "        break\n",
    "                \n",
    "    return S"
   ]
  },
  {
   "cell_type": "code",
   "execution_count": 14,
   "metadata": {
    "id": "rbLiLepONZUm"
   },
   "outputs": [],
   "source": [
    "# utility function that computes accuracy using our CNN and our own K-NN algorithm\n",
    "# S is the condensed set output from CNN \n",
    "# X is the dataset to be tested\n",
    "# y is the corresponding ground truth labels\n",
    "def accuracy_ours(S,X,y,k=1):\n",
    "    correct=0\n",
    "    for i in range(len(X)):\n",
    "        x = np.array(X.iloc[i,:])\n",
    "        ground_truth = y.iloc[i]\n",
    "        if(compute_label(np.array(S),x,k) == ground_truth):\n",
    "            correct = correct+1\n",
    "    print(correct/len(X))"
   ]
  },
  {
   "cell_type": "code",
   "execution_count": 15,
   "metadata": {
    "id": "tPTiexs_NZSP"
   },
   "outputs": [],
   "source": [
    "# computing condensed set S using train dataset\n",
    "S = CNN(X_train,y_train)"
   ]
  },
  {
   "cell_type": "code",
   "execution_count": 16,
   "metadata": {
    "colab": {
     "base_uri": "https://localhost:8080/"
    },
    "id": "Ur4Jxq_GNzMC",
    "outputId": "d4d455ab-54bb-42b6-c8ee-274a59110c23"
   },
   "outputs": [
    {
     "name": "stdout",
     "output_type": "stream",
     "text": [
      "Length of the condensed set:  20\n"
     ]
    }
   ],
   "source": [
    "# the number of points in the condensed set is much less than the total train set\n",
    "print(\"Length of the condensed set: \",len(S))"
   ]
  },
  {
   "cell_type": "code",
   "execution_count": 17,
   "metadata": {
    "colab": {
     "base_uri": "https://localhost:8080/"
    },
    "id": "pO6tRMpkNz-k",
    "outputId": "993af360-196a-445d-b41d-8983ca258238"
   },
   "outputs": [
    {
     "name": "stdout",
     "output_type": "stream",
     "text": [
      "1.0\n"
     ]
    }
   ],
   "source": [
    "# proof of the fact that S is indeed the minimum consistent subset\n",
    "accuracy_ours(S,X_train,y_train)"
   ]
  },
  {
   "cell_type": "code",
   "execution_count": 18,
   "metadata": {
    "colab": {
     "base_uri": "https://localhost:8080/"
    },
    "id": "aEiaqQBmNzPT",
    "outputId": "d94a9752-b57c-4baa-93f8-edc0f2356a8c"
   },
   "outputs": [
    {
     "name": "stdout",
     "output_type": "stream",
     "text": [
      "0.6\n"
     ]
    }
   ],
   "source": [
    "# accuracy of our CNN + KNN (with k = 5) on the test set\n",
    "accuracy_ours(S,X_test,y_test,5)"
   ]
  },
  {
   "cell_type": "code",
   "execution_count": 19,
   "metadata": {
    "id": "Fhlj0Q67dNV_"
   },
   "outputs": [],
   "source": [
    "# creating an object of the NearestNeighbours class from sklearn package\n",
    "# fitting it on the entire training dataset\n",
    "nbrs = NearestNeighbors(n_neighbors=5, algorithm='brute').fit(X_train)\n",
    "\n",
    "# generating nearest neighbours on the test dataset\n",
    "distances, indices = nbrs.kneighbors(X_test)"
   ]
  },
  {
   "cell_type": "code",
   "execution_count": 20,
   "metadata": {
    "id": "F2XkWuX1dZ05"
   },
   "outputs": [],
   "source": [
    "# utility function that computes accuracy using sklearn's K-NN algorithm (k=5) using entire train set\n",
    "# X is the dataset to be tested\n",
    "# y is the corresponding ground truth labels\n",
    "# y_train is the set of ground truth labels for the train set\n",
    "# nbrs is the NearestNeighbours trained object\n",
    "def accuracy_sklearn(X,y,y_train,nbrs):\n",
    "    correct = 0\n",
    "    distances, indices = nbrs.kneighbors(X)\n",
    "    for i in range(len(indices)):\n",
    "        each = indices[i]\n",
    "        top_k_labels = [y_train[idx] for idx in each]\n",
    "        pred_label = mode(top_k_labels)\n",
    "        if pred_label == y.iloc[i]:\n",
    "            correct = correct+1\n",
    "    print(correct/len(indices))"
   ]
  },
  {
   "cell_type": "code",
   "execution_count": 21,
   "metadata": {
    "colab": {
     "base_uri": "https://localhost:8080/"
    },
    "id": "kpZjJI4HdaVe",
    "outputId": "6a6d3e3c-a6ef-4440-cb08-eec2695df1b0"
   },
   "outputs": [
    {
     "name": "stdout",
     "output_type": "stream",
     "text": [
      "0.6666666666666666\n"
     ]
    }
   ],
   "source": [
    "# accuracy using sklearn's K-NN algorithm (k=5) using entire train set for predictions\n",
    "accuracy_sklearn(X_test,y_test,y_train,nbrs)"
   ]
  },
  {
   "cell_type": "code",
   "execution_count": 22,
   "metadata": {
    "colab": {
     "base_uri": "https://localhost:8080/"
    },
    "id": "PDsZJkGWekrv",
    "outputId": "e46f0222-b647-43a0-d09c-f113f2375c3e"
   },
   "outputs": [
    {
     "name": "stdout",
     "output_type": "stream",
     "text": [
      "0.6\n"
     ]
    },
    {
     "name": "stderr",
     "output_type": "stream",
     "text": [
      "/usr/local/lib/python3.7/dist-packages/sklearn/base.py:444: UserWarning: X has feature names, but NearestNeighbors was fitted without feature names\n",
      "  f\"X has feature names, but {self.__class__.__name__} was fitted without\"\n"
     ]
    }
   ],
   "source": [
    "# fitting sklearn's KNN on our condensed dataset only\n",
    "nbrs_2 = NearestNeighbors(n_neighbors=5, algorithm='brute').fit(np.array([S[i][:-1] for i in range(len(S))]))\n",
    "\n",
    "# accuracy using sklearn's K-NN algorithm (k=5) using entire train set for predictions\n",
    "accuracy_sklearn(X_test,y_test,np.array([S[i][-1] for i in range(len(S))]),nbrs_2)"
   ]
  },
  {
   "cell_type": "code",
   "execution_count": 23,
   "metadata": {
    "id": "5BtVswT-fUbW"
   },
   "outputs": [],
   "source": [
    "# We suspect that the dataset isn't properly shuffled and needs stratifying\n",
    "# We now shuffle the dataset and then divide into train and test sets\n",
    "\n",
    "df_shuffled = df.sample(frac=1)\n",
    "X_shuffled = df_shuffled.iloc[:,:-1]\n",
    "y_shuffled = df_shuffled.iloc[:,-1]\n",
    "X_train_shuffled = X_shuffled[0:-15]\n",
    "y_train_shuffled = y_shuffled[0:-15]\n",
    "X_test_shuffled = X_shuffled[-15:]\n",
    "y_test_shuffled = y_shuffled[-15:]"
   ]
  },
  {
   "cell_type": "code",
   "execution_count": 24,
   "metadata": {
    "colab": {
     "base_uri": "https://localhost:8080/"
    },
    "id": "dvahumEJgnSG",
    "outputId": "5b727181-48ce-4ae0-db9f-0f7a5a4ef43a"
   },
   "outputs": [
    {
     "name": "stdout",
     "output_type": "stream",
     "text": [
      "Length of the condensed set:  15\n"
     ]
    }
   ],
   "source": [
    "# computing condensed set S using train dataset\n",
    "S_shuffled = CNN(X_train_shuffled,y_train_shuffled)\n",
    "# the number of points in the condensed set is much less than the total train set\n",
    "print(\"Length of the condensed set: \",len(S_shuffled))"
   ]
  },
  {
   "cell_type": "code",
   "execution_count": 25,
   "metadata": {
    "colab": {
     "base_uri": "https://localhost:8080/"
    },
    "id": "ABNDFQzIhJ5r",
    "outputId": "0f4b9a9b-7708-4e64-aa70-7ce7548409df"
   },
   "outputs": [
    {
     "name": "stdout",
     "output_type": "stream",
     "text": [
      "1.0\n"
     ]
    }
   ],
   "source": [
    "# proof of the fact that S is indeed the minimum consistent subset\n",
    "accuracy_ours(S_shuffled,X_train_shuffled,y_train_shuffled)"
   ]
  },
  {
   "cell_type": "code",
   "execution_count": 26,
   "metadata": {
    "colab": {
     "base_uri": "https://localhost:8080/"
    },
    "id": "piM8j938hPmy",
    "outputId": "5dd4b351-8408-4bb7-9782-e86b0aa92b89"
   },
   "outputs": [
    {
     "name": "stdout",
     "output_type": "stream",
     "text": [
      "0.8\n"
     ]
    }
   ],
   "source": [
    "# accuracy of our CNN + KNN (with k = 5) on the test set\n",
    "accuracy_ours(S_shuffled,X_test_shuffled,y_test_shuffled,5)"
   ]
  }
 ],
 "metadata": {
  "colab": {
   "collapsed_sections": [],
   "name": "MLFA ASSGN 1",
   "provenance": []
  },
  "kernelspec": {
   "display_name": "Python 3",
   "language": "python",
   "name": "python3"
  },
  "language_info": {
   "codemirror_mode": {
    "name": "ipython",
    "version": 3
   },
   "file_extension": ".py",
   "mimetype": "text/x-python",
   "name": "python",
   "nbconvert_exporter": "python",
   "pygments_lexer": "ipython3",
   "version": "3.7.6"
  }
 },
 "nbformat": 4,
 "nbformat_minor": 4
}
