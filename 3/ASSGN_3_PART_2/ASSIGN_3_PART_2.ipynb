{
 "cells": [
  {
   "cell_type": "code",
   "execution_count": 1,
   "metadata": {},
   "outputs": [],
   "source": [
    "# import commands\n",
    "import numpy as np\n",
    "import pandas as pd\n",
    "import matplotlib.pyplot as plt\n",
    "\n",
    "import tensorflow as tf\n",
    "import tensorflow_datasets as tfds\n",
    "from tensorflow import keras\n",
    "from tensorflow.keras import layers"
   ]
  },
  {
   "cell_type": "code",
   "execution_count": 2,
   "metadata": {},
   "outputs": [],
   "source": [
    "# loading the train and test splits of mnist dataset\n",
    "(ds_train, ds_test), ds_info = tfds.load(\n",
    "    'mnist',\n",
    "    split=['train', 'test'],\n",
    "    shuffle_files=True,\n",
    "    as_supervised=True,\n",
    "    with_info=True,\n",
    ")"
   ]
  },
  {
   "cell_type": "code",
   "execution_count": 3,
   "metadata": {},
   "outputs": [],
   "source": [
    "# preparing train dataset\n",
    "ds_train = ds_train.cache()\n",
    "ds_train = ds_train.shuffle(ds_info.splits['train'].num_examples)\n",
    "ds_train = ds_train.batch(128)\n",
    "ds_train = ds_train.prefetch(tf.data.AUTOTUNE)"
   ]
  },
  {
   "cell_type": "code",
   "execution_count": 4,
   "metadata": {},
   "outputs": [],
   "source": [
    "# preparing test dataset\n",
    "ds_test = ds_test.batch(128)\n",
    "ds_test = ds_test.cache()\n",
    "ds_test = ds_test.prefetch(tf.data.AUTOTUNE)"
   ]
  },
  {
   "cell_type": "code",
   "execution_count": 5,
   "metadata": {},
   "outputs": [],
   "source": [
    "# utility function to apply activations\n",
    "def activation(z,func):\n",
    "    return func(z)"
   ]
  },
  {
   "cell_type": "code",
   "execution_count": 6,
   "metadata": {},
   "outputs": [],
   "source": [
    "# utility function for applying sigmoid activation\n",
    "def sigmoid(z):\n",
    "    exp = np.exp(z)\n",
    "    g = (exp)/(1+exp)\n",
    "    return g"
   ]
  },
  {
   "cell_type": "code",
   "execution_count": 7,
   "metadata": {},
   "outputs": [],
   "source": [
    "# utility function for applying relu activation\n",
    "def relu(z):\n",
    "    max_ = np.max(z)\n",
    "    z = np.where(z<0,0,z)\n",
    "    return z"
   ]
  },
  {
   "cell_type": "code",
   "execution_count": 8,
   "metadata": {},
   "outputs": [],
   "source": [
    "# utility function for derivative of sigmoid activation\n",
    "def derivative_sigmoid(z):\n",
    "    sigmoid_z = sigmoid(z)\n",
    "    return sigmoid_z*(1-sigmoid_z)"
   ]
  },
  {
   "cell_type": "code",
   "execution_count": 9,
   "metadata": {},
   "outputs": [],
   "source": [
    "# utility function for derivative of relu activation\n",
    "def derivative_relu(z):\n",
    "    z = np.where(z<0,0,1)\n",
    "    return z"
   ]
  },
  {
   "cell_type": "code",
   "execution_count": 10,
   "metadata": {},
   "outputs": [],
   "source": [
    "# utility function for applying softmax to an array\n",
    "def softmax(z):\n",
    "    sum_array = np.sum(np.exp(z),axis=1,keepdims = True)\n",
    "    z = np.exp(z)/sum_array\n",
    "    return z"
   ]
  },
  {
   "cell_type": "code",
   "execution_count": 11,
   "metadata": {},
   "outputs": [],
   "source": [
    "# utility function to initialise all weights in OUR neural network\n",
    "def initialize():\n",
    "    for layer in range(1,len(hidden_layer_dim)):\n",
    "        param_dict[\"W_\"+str(layer)+\"\"] = np.random.normal(0,1/hidden_layer_dim[layer-1],(hidden_layer_dim[layer].astype(int),hidden_layer_dim[layer-1].astype(int)))\n",
    "        param_dict[\"B_\"+str(layer)+\"\"] = np.zeros((1,hidden_layer_dim[layer].astype(int)))"
   ]
  },
  {
   "cell_type": "code",
   "execution_count": 12,
   "metadata": {},
   "outputs": [],
   "source": [
    "# utility function for 1 forward pass through OUR neural network\n",
    "def forward(x):\n",
    "    Z = x\n",
    "    internal_dict[\"O_\"+str(0)+\"\"] = Z\n",
    "    for layer in range(1,hidden_layers+2):\n",
    "        W = np.array(param_dict[\"W_\"+str(layer)])\n",
    "        Z = np.matmul(Z,W.T) + np.array(param_dict[\"B_\"+str(layer)])\n",
    "        if(layer!=hidden_layers+1):\n",
    "            Z = activation(Z,hidden_layer_activations[layer-1])\n",
    "        internal_dict[\"O_\"+str(layer)+\"\"] = Z\n",
    "    preds = softmax(Z)\n",
    "    return preds"
   ]
  },
  {
   "cell_type": "code",
   "execution_count": 13,
   "metadata": {},
   "outputs": [],
   "source": [
    "# utility function to implement cross entropy loss\n",
    "def cross_entropy(preds,truths):\n",
    "    preds = np.multiply(preds,truths)\n",
    "    logs = np.where(preds!=0,-np.log(preds),0)\n",
    "    loss = np.sum(logs)/batch_size\n",
    "    return loss"
   ]
  },
  {
   "cell_type": "code",
   "execution_count": 14,
   "metadata": {},
   "outputs": [],
   "source": [
    "# utility function for 1 backward propagation through OUR neural network\n",
    "def backprop(preds,truths):\n",
    "    truths = label2array(truths)\n",
    "    loss = cross_entropy(preds,truths)\n",
    "    loss_array.append(loss)\n",
    "    delEdelO = preds\n",
    "    delEdelO = np.where(truths==1,delEdelO-1,delEdelO)\n",
    "    delEdelI_ll = delEdelO\n",
    "    \n",
    "    delEdelI_ll = np.where(delEdelI_ll>1,1,delEdelI_ll)\n",
    "    delEdelI_ll = np.where(delEdelI_ll<-1,-1,delEdelI_ll)\n",
    "\n",
    "    internal_dict[\"D_\"+str(hidden_layers+1)+\"\"] = delEdelI_ll\n",
    "    prev_outputs = np.array([np.array(internal_dict[\"O_\"+str(hidden_layers)+\"\"]).T for i in range(hidden_layer_dim[-1].astype(int))])\n",
    "    delEdelI_lls = np.array([delEdelI_ll for i in range(hidden_layer_dim[-2].astype(int))]).T\n",
    "    delEdelI_lls = np.array(delEdelI_lls).transpose(0,2,1)\n",
    "\n",
    "    delEdelW = np.sum(np.multiply(delEdelI_lls,prev_outputs),axis=2)/batch_size\n",
    "    W = param_dict[\"W_\"+str(hidden_layers+1)+\"\"]\n",
    "    W = W - (delEdelW) * learning_rate\n",
    "    param_dict[\"W_\"+str(hidden_layers+1)+\"\"] = W\n",
    "    \n",
    "    B = param_dict[\"B_\"+str(hidden_layers+1)+\"\"]\n",
    "    B = B - (np.sum(delEdelI_ll,axis=0)/batch_size) * learning_rate\n",
    "    param_dict[\"B_\"+str(hidden_layers+1)+\"\"] = B\n",
    "\n",
    "    for layer in range(hidden_layers,0,-1):\n",
    "        delta_next = internal_dict[\"D_\"+str(layer+1)+\"\"]#.reshape((-1,-1,1))\n",
    "        delta_next = np.array([delta_next for i in range(hidden_layer_dim[layer].astype(int))]).transpose(2,0,1)\n",
    "        W = np.array(param_dict[\"W_\"+str(layer+1)])\n",
    "        W = np.array([W for i in range(batch_size)]).transpose(1,2,0)\n",
    "        intermediate = np.multiply(delta_next,W)\n",
    "        \n",
    "        W = np.array(param_dict[\"W_\"+str(layer)])\n",
    "        Z = internal_dict[\"O_\"+str(layer-1)+\"\"]\n",
    "        Z = np.matmul(Z,W.T) + np.array(param_dict[\"B_\"+str(layer)])\n",
    "\n",
    "        delOdelI = eval(\"derivative_\"+str(hidden_layer_activations[layer-1].__name__)+\"(Z)\")\n",
    "        delOdelI = np.array([delOdelI for i in range(hidden_layer_dim[layer+1].astype(int))]).transpose(0,2,1)\n",
    "        delta = np.sum(np.multiply(delOdelI,intermediate),axis=0).T\n",
    "        delta = np.where(delta>1,1,delta)\n",
    "        delta = np.where(delta<-1,-1,delta)\n",
    "        internal_dict[\"D_\"+str(layer)+\"\"] = delta\n",
    "        \n",
    "        prev_outputs = np.array([np.array(internal_dict[\"O_\"+str(layer-1)+\"\"]).T for i in range(hidden_layer_dim[layer].astype(int))])\n",
    "        delEdelI_lls = np.array([delta for i in range(hidden_layer_dim[layer-1].astype(int))]).T\n",
    "        delEdelI_lls = np.array(delEdelI_lls).transpose(0,2,1)\n",
    "        delEdelW = np.sum(np.multiply(delEdelI_lls,prev_outputs),axis=2)/batch_size\n",
    "    \n",
    "        W = W - delEdelW * learning_rate\n",
    "        param_dict[\"W_\"+str(layer)+\"\"] = W\n",
    "\n",
    "        B = param_dict[\"B_\"+str(layer)+\"\"]\n",
    "        B = B - (np.sum(delta,axis=0)/batch_size) * learning_rate\n",
    "        param_dict[\"B_\"+str(layer)+\"\"] = B\n",
    "        \n",
    "    return "
   ]
  },
  {
   "cell_type": "code",
   "execution_count": 15,
   "metadata": {},
   "outputs": [],
   "source": [
    "# utility function to convert label into one hot vector\n",
    "def label2array(label):\n",
    "    label.numpy().reshape((-1,1))\n",
    "    y=np.zeros((batch_size,10))\n",
    "    for i in range(batch_size):\n",
    "        y[i][label[i]]=1\n",
    "    return y"
   ]
  },
  {
   "cell_type": "code",
   "execution_count": 16,
   "metadata": {},
   "outputs": [],
   "source": [
    "# utility function for accuracy of a batch\n",
    "def batch_accuracy(preds,truths):\n",
    "    preds = np.argmax(preds,axis=1)\n",
    "    preds = np.where(preds==truths,1,0)\n",
    "    batch_acc = np.sum(preds)/len(preds)\n",
    "    return batch_acc"
   ]
  },
  {
   "cell_type": "code",
   "execution_count": 17,
   "metadata": {},
   "outputs": [],
   "source": [
    "# utility function for testing accuracy of OUR MODEL on test dataset\n",
    "def test_accuracy():\n",
    "    sum=0\n",
    "    counter=0\n",
    "    for elem in ds_test:\n",
    "        counter = counter+1\n",
    "        images,labels = elem\n",
    "        images = images.numpy().reshape((images.numpy().shape[0],-1))\n",
    "\n",
    "        preds = forward(images)\n",
    "        sum = sum + batch_accuracy(preds,labels)\n",
    "    print(sum/counter)"
   ]
  },
  {
   "cell_type": "code",
   "execution_count": 18,
   "metadata": {},
   "outputs": [],
   "source": [
    "# utility function for testing accuracy of TF MODEL on test dataset\n",
    "def model_accuracy():\n",
    "    sum=0\n",
    "    counter=0\n",
    "    for elem in ds_test:\n",
    "        counter = counter+1\n",
    "        images,labels = elem\n",
    "        images = images.numpy()\n",
    "\n",
    "        preds = model(images)\n",
    "        sum = sum + batch_accuracy(preds,labels)\n",
    "    print(sum/counter)"
   ]
  },
  {
   "cell_type": "code",
   "execution_count": 19,
   "metadata": {},
   "outputs": [],
   "source": [
    "# hyperparameters for training OUR neural network\n",
    "epochs = 3\n",
    "batch_size=128\n",
    "learning_rate = 0.00001\n",
    "input_dim = 28*28\n",
    "hidden_layers = 1\n",
    "hidden_layer_dimensions = [128] # comma separated information about the hidden layer dimensions\n",
    "hidden_layer_activations = [relu] # comma separated information about the hidden layer activations\n",
    "output_nodes = 10"
   ]
  },
  {
   "cell_type": "code",
   "execution_count": 20,
   "metadata": {},
   "outputs": [],
   "source": [
    "hidden_layer_dim = np.zeros(hidden_layers+2,)\n",
    "hidden_layer_dim[0] = input_dim\n",
    "hidden_layer_dim[-1] = output_nodes\n",
    "hidden_layer_dim[1:-1] = np.array(hidden_layer_dimensions).astype(int)"
   ]
  },
  {
   "cell_type": "code",
   "execution_count": 21,
   "metadata": {},
   "outputs": [
    {
     "name": "stdout",
     "output_type": "stream",
     "text": [
      "[784. 128.  10.]\n"
     ]
    }
   ],
   "source": [
    "print(hidden_layer_dim)"
   ]
  },
  {
   "cell_type": "code",
   "execution_count": 22,
   "metadata": {},
   "outputs": [],
   "source": [
    "# itiliasing the dictionaries and all trainable parameters\n",
    "param_dict = {}\n",
    "internal_dict = {}\n",
    "loss_array = []\n",
    "initialize()"
   ]
  },
  {
   "cell_type": "code",
   "execution_count": 23,
   "metadata": {},
   "outputs": [
    {
     "name": "stderr",
     "output_type": "stream",
     "text": [
      "/home/tfjuror/anaconda3/lib/python3.7/site-packages/ipykernel_launcher.py:4: RuntimeWarning: divide by zero encountered in log\n",
      "  after removing the cwd from sys.path.\n"
     ]
    }
   ],
   "source": [
    "# Training OUR neural network\n",
    "for epoch in range(epochs):\n",
    "    counter=0\n",
    "    for elem in ds_train:\n",
    "        counter = counter+1\n",
    "        internal_dict = {}\n",
    "        images,labels = elem\n",
    "        images = images.numpy().reshape((images.numpy().shape[0],-1))\n",
    "\n",
    "        preds = forward(images)\n",
    "        try:\n",
    "            backprop(preds,labels)\n",
    "        except:\n",
    "            continue"
   ]
  },
  {
   "cell_type": "code",
   "execution_count": 24,
   "metadata": {},
   "outputs": [
    {
     "data": {
      "image/png": "[encoded data removed]",
      "text/plain": [
       "<Figure size 432x288 with 1 Axes>"
      ]
     },
     "metadata": {
      "needs_background": "light"
     },
     "output_type": "display_data"
    }
   ],
   "source": [
    "plt.plot(loss_array)\n",
    "plt.show()"
   ]
  },
  {
   "cell_type": "code",
   "execution_count": 25,
   "metadata": {},
   "outputs": [
    {
     "name": "stdout",
     "output_type": "stream",
     "text": [
      "0.8574960443037974\n"
     ]
    }
   ],
   "source": [
    "# The accuracy of our trained model on the test dataset\n",
    "test_accuracy()"
   ]
  },
  {
   "cell_type": "code",
   "execution_count": 26,
   "metadata": {},
   "outputs": [],
   "source": [
    "# defining the same neural network using TF package\n",
    "model = tf.keras.models.Sequential([\n",
    "  tf.keras.layers.Flatten(input_shape=(28, 28)),\n",
    "  tf.keras.layers.Dense(128, activation='relu'),\n",
    "  tf.keras.layers.Dense(10)\n",
    "])"
   ]
  },
  {
   "cell_type": "code",
   "execution_count": 27,
   "metadata": {},
   "outputs": [
    {
     "name": "stdout",
     "output_type": "stream",
     "text": [
      "Model: \"sequential\"\n",
      "_________________________________________________________________\n",
      " Layer (type)                Output Shape              Param #   \n",
      "=================================================================\n",
      " flatten (Flatten)           (None, 784)               0         \n",
      "                                                                 \n",
      " dense (Dense)               (None, 128)               100480    \n",
      "                                                                 \n",
      " dense_1 (Dense)             (None, 10)                1290      \n",
      "                                                                 \n",
      "=================================================================\n",
      "Total params: 101,770\n",
      "Trainable params: 101,770\n",
      "Non-trainable params: 0\n",
      "_________________________________________________________________\n"
     ]
    }
   ],
   "source": [
    "model.summary()"
   ]
  },
  {
   "cell_type": "code",
   "execution_count": 28,
   "metadata": {},
   "outputs": [],
   "source": [
    "model.compile(\n",
    "    optimizer=tf.keras.optimizers.SGD(0.0001),\n",
    "    loss=tf.keras.losses.SparseCategoricalCrossentropy(from_logits=True),\n",
    "    metrics=[tf.keras.metrics.SparseCategoricalAccuracy()],\n",
    ")"
   ]
  },
  {
   "cell_type": "code",
   "execution_count": 29,
   "metadata": {},
   "outputs": [
    {
     "name": "stdout",
     "output_type": "stream",
     "text": [
      "Epoch 1/3\n",
      "469/469 [==============================] - 2s 2ms/step - loss: 11.6968 - sparse_categorical_accuracy: 0.7519 - val_loss: 5.4367 - val_sparse_categorical_accuracy: 0.8426\n",
      "Epoch 2/3\n",
      "469/469 [==============================] - 1s 2ms/step - loss: 4.4650 - sparse_categorical_accuracy: 0.8588 - val_loss: 3.8836 - val_sparse_categorical_accuracy: 0.8696\n",
      "Epoch 3/3\n",
      "469/469 [==============================] - 1s 2ms/step - loss: 3.2864 - sparse_categorical_accuracy: 0.8801 - val_loss: 3.1174 - val_sparse_categorical_accuracy: 0.8847\n"
     ]
    },
    {
     "data": {
      "text/plain": [
       "<keras.callbacks.History at 0x7f968edd5dd0>"
      ]
     },
     "execution_count": 29,
     "metadata": {},
     "output_type": "execute_result"
    }
   ],
   "source": [
    "model.fit(\n",
    "    ds_train,\n",
    "    epochs=3,\n",
    "    validation_data=ds_test,\n",
    "    verbose=1\n",
    ")"
   ]
  },
  {
   "cell_type": "code",
   "execution_count": 30,
   "metadata": {},
   "outputs": [
    {
     "name": "stdout",
     "output_type": "stream",
     "text": [
      "0.8852848101265823\n"
     ]
    }
   ],
   "source": [
    "# The accuracy of the TF trained model on the test dataset\n",
    "model_accuracy()"
   ]
  },
  {
   "cell_type": "code",
   "execution_count": null,
   "metadata": {},
   "outputs": [],
   "source": []
  }
 ],
 "metadata": {
  "kernelspec": {
   "display_name": "Python 3",
   "language": "python",
   "name": "python3"
  },
  "language_info": {
   "codemirror_mode": {
    "name": "ipython",
    "version": 3
   },
   "file_extension": ".py",
   "mimetype": "text/x-python",
   "name": "python",
   "nbconvert_exporter": "python",
   "pygments_lexer": "ipython3",
   "version": "3.7.6"
  }
 },
 "nbformat": 4,
 "nbformat_minor": 4
}
