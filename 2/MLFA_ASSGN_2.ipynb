{
 "cells": [
  {
   "cell_type": "code",
   "execution_count": null,
   "metadata": {},
   "outputs": [],
   "source": [
    "# MLFA Assignment 2\n",
    "\n",
    "# Team Members - \n",
    "# Deepansh Agrawal - 19MI10018\n",
    "# Rohit Ranjan - 20CS30066\n",
    "# Neha Gupta - 20CH10094\n",
    "# Gautam Jaju - 20AG30015\n",
    "# Siddharth Madhupati - 20ME30083\n",
    "# Madiha Hanifa - 20MF10018\n",
    "# Himadri Pandya - 20ME10047"
   ]
  },
  {
   "cell_type": "code",
   "execution_count": 1,
   "metadata": {},
   "outputs": [],
   "source": [
    "# import commands\n",
    "import numpy as np\n",
    "import pandas as pd\n",
    "import matplotlib.pyplot as plt\n",
    "import seaborn as sns\n",
    "\n",
    "from sklearn.model_selection import train_test_split\n",
    "from sklearn.linear_model import LogisticRegression"
   ]
  },
  {
   "cell_type": "code",
   "execution_count": 2,
   "metadata": {},
   "outputs": [
    {
     "name": "stdout",
     "output_type": "stream",
     "text": [
      "Requirement already satisfied: wget in /home/tfjuror/anaconda3/lib/python3.7/site-packages (3.2)\n"
     ]
    }
   ],
   "source": [
    "# installing wget on Colab then downloading dataset\n",
    "!pip install wget\n",
    "import wget\n",
    "url = 'https://archive.ics.uci.edu/ml/machine-learning-databases/00537/sobar-72.csv'\n",
    "filename = wget.download(url)"
   ]
  },
  {
   "cell_type": "code",
   "execution_count": 3,
   "metadata": {},
   "outputs": [],
   "source": [
    "# setting a seed for repeatability\n",
    "np.random.seed(42)"
   ]
  },
  {
   "cell_type": "code",
   "execution_count": 4,
   "metadata": {},
   "outputs": [],
   "source": [
    "# adding a bias column to imported dataframe so that b can be simulated with a theta parameter later\n",
    "df = pd.read_csv(\"sobar-72.csv\")\n",
    "df.insert(0, \"bias\", np.ones((72)), False)"
   ]
  },
  {
   "cell_type": "code",
   "execution_count": 5,
   "metadata": {},
   "outputs": [
    {
     "data": {
      "text/plain": [
       "(72, 21)"
      ]
     },
     "execution_count": 5,
     "metadata": {},
     "output_type": "execute_result"
    }
   ],
   "source": [
    "df.shape"
   ]
  },
  {
   "cell_type": "code",
   "execution_count": 6,
   "metadata": {},
   "outputs": [
    {
     "data": {
      "text/html": [
       "<div>\n",
       "<style scoped>\n",
       "    .dataframe tbody tr th:only-of-type {\n",
       "        vertical-align: middle;\n",
       "    }\n",
       "\n",
       "    .dataframe tbody tr th {\n",
       "        vertical-align: top;\n",
       "    }\n",
       "\n",
       "    .dataframe thead th {\n",
       "        text-align: right;\n",
       "    }\n",
       "</style>\n",
       "<table border=\"1\" class=\"dataframe\">\n",
       "  <thead>\n",
       "    <tr style=\"text-align: right;\">\n",
       "      <th></th>\n",
       "      <th>bias</th>\n",
       "      <th>behavior_sexualRisk</th>\n",
       "      <th>behavior_eating</th>\n",
       "      <th>behavior_personalHygine</th>\n",
       "      <th>intention_aggregation</th>\n",
       "      <th>intention_commitment</th>\n",
       "      <th>attitude_consistency</th>\n",
       "      <th>attitude_spontaneity</th>\n",
       "      <th>norm_significantPerson</th>\n",
       "      <th>norm_fulfillment</th>\n",
       "      <th>...</th>\n",
       "      <th>perception_severity</th>\n",
       "      <th>motivation_strength</th>\n",
       "      <th>motivation_willingness</th>\n",
       "      <th>socialSupport_emotionality</th>\n",
       "      <th>socialSupport_appreciation</th>\n",
       "      <th>socialSupport_instrumental</th>\n",
       "      <th>empowerment_knowledge</th>\n",
       "      <th>empowerment_abilities</th>\n",
       "      <th>empowerment_desires</th>\n",
       "      <th>ca_cervix</th>\n",
       "    </tr>\n",
       "  </thead>\n",
       "  <tbody>\n",
       "    <tr>\n",
       "      <th>0</th>\n",
       "      <td>1.0</td>\n",
       "      <td>10</td>\n",
       "      <td>13</td>\n",
       "      <td>12</td>\n",
       "      <td>4</td>\n",
       "      <td>7</td>\n",
       "      <td>9</td>\n",
       "      <td>10</td>\n",
       "      <td>1</td>\n",
       "      <td>8</td>\n",
       "      <td>...</td>\n",
       "      <td>3</td>\n",
       "      <td>14</td>\n",
       "      <td>8</td>\n",
       "      <td>5</td>\n",
       "      <td>7</td>\n",
       "      <td>12</td>\n",
       "      <td>12</td>\n",
       "      <td>11</td>\n",
       "      <td>8</td>\n",
       "      <td>1</td>\n",
       "    </tr>\n",
       "    <tr>\n",
       "      <th>1</th>\n",
       "      <td>1.0</td>\n",
       "      <td>10</td>\n",
       "      <td>11</td>\n",
       "      <td>11</td>\n",
       "      <td>10</td>\n",
       "      <td>14</td>\n",
       "      <td>7</td>\n",
       "      <td>7</td>\n",
       "      <td>5</td>\n",
       "      <td>5</td>\n",
       "      <td>...</td>\n",
       "      <td>2</td>\n",
       "      <td>15</td>\n",
       "      <td>13</td>\n",
       "      <td>7</td>\n",
       "      <td>6</td>\n",
       "      <td>5</td>\n",
       "      <td>5</td>\n",
       "      <td>4</td>\n",
       "      <td>4</td>\n",
       "      <td>1</td>\n",
       "    </tr>\n",
       "    <tr>\n",
       "      <th>2</th>\n",
       "      <td>1.0</td>\n",
       "      <td>10</td>\n",
       "      <td>15</td>\n",
       "      <td>3</td>\n",
       "      <td>2</td>\n",
       "      <td>14</td>\n",
       "      <td>8</td>\n",
       "      <td>10</td>\n",
       "      <td>1</td>\n",
       "      <td>4</td>\n",
       "      <td>...</td>\n",
       "      <td>2</td>\n",
       "      <td>7</td>\n",
       "      <td>3</td>\n",
       "      <td>3</td>\n",
       "      <td>6</td>\n",
       "      <td>11</td>\n",
       "      <td>3</td>\n",
       "      <td>3</td>\n",
       "      <td>15</td>\n",
       "      <td>1</td>\n",
       "    </tr>\n",
       "    <tr>\n",
       "      <th>3</th>\n",
       "      <td>1.0</td>\n",
       "      <td>10</td>\n",
       "      <td>11</td>\n",
       "      <td>10</td>\n",
       "      <td>10</td>\n",
       "      <td>15</td>\n",
       "      <td>7</td>\n",
       "      <td>7</td>\n",
       "      <td>1</td>\n",
       "      <td>5</td>\n",
       "      <td>...</td>\n",
       "      <td>2</td>\n",
       "      <td>15</td>\n",
       "      <td>13</td>\n",
       "      <td>7</td>\n",
       "      <td>4</td>\n",
       "      <td>4</td>\n",
       "      <td>4</td>\n",
       "      <td>4</td>\n",
       "      <td>4</td>\n",
       "      <td>1</td>\n",
       "    </tr>\n",
       "    <tr>\n",
       "      <th>4</th>\n",
       "      <td>1.0</td>\n",
       "      <td>8</td>\n",
       "      <td>11</td>\n",
       "      <td>7</td>\n",
       "      <td>8</td>\n",
       "      <td>10</td>\n",
       "      <td>7</td>\n",
       "      <td>8</td>\n",
       "      <td>1</td>\n",
       "      <td>5</td>\n",
       "      <td>...</td>\n",
       "      <td>2</td>\n",
       "      <td>15</td>\n",
       "      <td>5</td>\n",
       "      <td>3</td>\n",
       "      <td>6</td>\n",
       "      <td>12</td>\n",
       "      <td>5</td>\n",
       "      <td>4</td>\n",
       "      <td>7</td>\n",
       "      <td>1</td>\n",
       "    </tr>\n",
       "  </tbody>\n",
       "</table>\n",
       "<p>5 rows × 21 columns</p>\n",
       "</div>"
      ],
      "text/plain": [
       "   bias  behavior_sexualRisk  behavior_eating  behavior_personalHygine  \\\n",
       "0   1.0                   10               13                       12   \n",
       "1   1.0                   10               11                       11   \n",
       "2   1.0                   10               15                        3   \n",
       "3   1.0                   10               11                       10   \n",
       "4   1.0                    8               11                        7   \n",
       "\n",
       "   intention_aggregation  intention_commitment  attitude_consistency  \\\n",
       "0                      4                     7                     9   \n",
       "1                     10                    14                     7   \n",
       "2                      2                    14                     8   \n",
       "3                     10                    15                     7   \n",
       "4                      8                    10                     7   \n",
       "\n",
       "   attitude_spontaneity  norm_significantPerson  norm_fulfillment  ...  \\\n",
       "0                    10                       1                 8  ...   \n",
       "1                     7                       5                 5  ...   \n",
       "2                    10                       1                 4  ...   \n",
       "3                     7                       1                 5  ...   \n",
       "4                     8                       1                 5  ...   \n",
       "\n",
       "   perception_severity  motivation_strength  motivation_willingness  \\\n",
       "0                    3                   14                       8   \n",
       "1                    2                   15                      13   \n",
       "2                    2                    7                       3   \n",
       "3                    2                   15                      13   \n",
       "4                    2                   15                       5   \n",
       "\n",
       "   socialSupport_emotionality  socialSupport_appreciation  \\\n",
       "0                           5                           7   \n",
       "1                           7                           6   \n",
       "2                           3                           6   \n",
       "3                           7                           4   \n",
       "4                           3                           6   \n",
       "\n",
       "   socialSupport_instrumental  empowerment_knowledge  empowerment_abilities  \\\n",
       "0                          12                     12                     11   \n",
       "1                           5                      5                      4   \n",
       "2                          11                      3                      3   \n",
       "3                           4                      4                      4   \n",
       "4                          12                      5                      4   \n",
       "\n",
       "   empowerment_desires  ca_cervix  \n",
       "0                    8          1  \n",
       "1                    4          1  \n",
       "2                   15          1  \n",
       "3                    4          1  \n",
       "4                    7          1  \n",
       "\n",
       "[5 rows x 21 columns]"
      ]
     },
     "execution_count": 6,
     "metadata": {},
     "output_type": "execute_result"
    }
   ],
   "source": [
    "df.head()"
   ]
  },
  {
   "cell_type": "code",
   "execution_count": 7,
   "metadata": {},
   "outputs": [],
   "source": [
    "X = df.iloc[:,:-1]\n",
    "y = df.iloc[:,-1]"
   ]
  },
  {
   "cell_type": "code",
   "execution_count": 8,
   "metadata": {},
   "outputs": [],
   "source": [
    "# splitting train and test sets using specified instructions\n",
    "X_train, X_test, y_train, y_test = train_test_split(X, y, test_size=0.1, random_state=42)"
   ]
  },
  {
   "cell_type": "code",
   "execution_count": 9,
   "metadata": {},
   "outputs": [],
   "source": [
    "# specified hyperparameters used\n",
    "learning_rate = 0.001\n",
    "iterations = 1000\n",
    "loss_array =[]"
   ]
  },
  {
   "cell_type": "code",
   "execution_count": 10,
   "metadata": {},
   "outputs": [],
   "source": [
    "# random initialisation of the parameters of the model\n",
    "params = np.random.rand(20,1)"
   ]
  },
  {
   "cell_type": "code",
   "execution_count": 11,
   "metadata": {},
   "outputs": [
    {
     "name": "stderr",
     "output_type": "stream",
     "text": [
      "/home/tfjuror/anaconda3/lib/python3.7/site-packages/ipykernel_launcher.py:24: RuntimeWarning: divide by zero encountered in log\n",
      "/home/tfjuror/anaconda3/lib/python3.7/site-packages/ipykernel_launcher.py:24: RuntimeWarning: invalid value encountered in multiply\n"
     ]
    }
   ],
   "source": [
    "# the learning loop is run for specified number of interations\n",
    "for iter in range(iterations):\n",
    "    avg_loss = 0\n",
    "    \n",
    "    # each data row is seen during each epoch\n",
    "    for curr_index in range(X_train.shape[0]):\n",
    "        \n",
    "        # extracting a row from train set\n",
    "        test_row = X_train.iloc[curr_index]\n",
    "        test_row = np.array(test_row)\n",
    "        test_row = np.reshape(test_row,(-1,1))\n",
    "        \n",
    "        # label is the ground truth\n",
    "        label = y_train.iloc[curr_index]\n",
    "        \n",
    "        # calculating Z, the linear function of features\n",
    "        Z = np.matmul(np.transpose(params),test_row)\n",
    "        Z = Z[0,0]\n",
    "        \n",
    "        # logistic function applied\n",
    "        LR = np.exp(Z)/(1+np.exp(Z))\n",
    "        \n",
    "        # calculating the loss\n",
    "        loss = label*np.log(LR) + (1-label)*np.log(1-LR)\n",
    "        avg_loss = avg_loss+loss\n",
    "        \n",
    "        # updating param values\n",
    "        for i in range(20):\n",
    "            params[i] = params[i] + learning_rate*((label - LR)*test_row[i])\n",
    "            \n",
    "    avg_loss = avg_loss/X_train.shape[0]\n",
    "    # appending avg loss per epoch at to an array\n",
    "    loss_array.append(np.abs(avg_loss))"
   ]
  },
  {
   "cell_type": "code",
   "execution_count": 12,
   "metadata": {},
   "outputs": [
    {
     "data": {
      "image/png": "[encoded data removed]",
      "text/plain": [
       "<Figure size 432x288 with 1 Axes>"
      ]
     },
     "metadata": {
      "needs_background": "light"
     },
     "output_type": "display_data"
    }
   ],
   "source": [
    "# decreasing loss is seen\n",
    "plt.plot(loss_array)\n",
    "plt.title(\"Loss Curve over training.\")\n",
    "plt.show()"
   ]
  },
  {
   "cell_type": "code",
   "execution_count": 13,
   "metadata": {},
   "outputs": [],
   "source": [
    "# utility function that prints the accuracy on a dataset (X,y) \n",
    "# params is the array with trained parameter values\n",
    "def accuracy_ours(X,y,params):\n",
    "    correct=0\n",
    "    for i in range(X.shape[0]):\n",
    "        test_row = X.iloc[i]\n",
    "        test_row = np.array(test_row)\n",
    "        test_row = np.reshape(test_row,(-1,1)) \n",
    "        Z = np.matmul(np.transpose(params),test_row)\n",
    "        Z = Z[0,0]\n",
    "        \n",
    "        LR = np.exp(Z)/(1+np.exp(Z))\n",
    "        pred=0\n",
    "        if(LR>0.5):\n",
    "            pred = 1\n",
    "            \n",
    "        if(pred == y.iloc[i]):\n",
    "            correct= correct+1\n",
    "     \n",
    "    print(correct/X.shape[0])"
   ]
  },
  {
   "cell_type": "code",
   "execution_count": 14,
   "metadata": {},
   "outputs": [
    {
     "name": "stdout",
     "output_type": "stream",
     "text": [
      "1.0\n"
     ]
    }
   ],
   "source": [
    "# final accuracy on the train set\n",
    "accuracy_ours(X_train,y_train,params)"
   ]
  },
  {
   "cell_type": "code",
   "execution_count": 15,
   "metadata": {},
   "outputs": [
    {
     "name": "stdout",
     "output_type": "stream",
     "text": [
      "1.0\n"
     ]
    }
   ],
   "source": [
    "# accuracy(OURS) on the test dataset\n",
    "accuracy_ours(X_test,y_test,params)"
   ]
  },
  {
   "cell_type": "code",
   "execution_count": 16,
   "metadata": {},
   "outputs": [],
   "source": [
    "# Now we train the LogisticRegression object from SKLEARN on the same train dataset with same hyperparameters\n",
    "clf = LogisticRegression(random_state=42,max_iter=1000,).fit(X_train, y_train)\n",
    "\n",
    "# predictions are generated on the test dataset\n",
    "pred = clf.predict(X_test)"
   ]
  },
  {
   "cell_type": "code",
   "execution_count": 17,
   "metadata": {},
   "outputs": [],
   "source": [
    "# utility function that prints accuracy on a dataset(X,y)\n",
    "# clf is the trained classifier model that needs to be passed\n",
    "def accuracy_sklearn(X,y,clf):\n",
    "    correct=0\n",
    "    \n",
    "    # predictions are generated on the test dataset\n",
    "    pred = clf.predict(X)\n",
    "    \n",
    "    for i in range(X.shape[0]):\n",
    "        if(pred[i] == y.iloc[i]):\n",
    "            correct= correct+1\n",
    "    print(correct/X.shape[0])"
   ]
  },
  {
   "cell_type": "code",
   "execution_count": 18,
   "metadata": {},
   "outputs": [
    {
     "name": "stdout",
     "output_type": "stream",
     "text": [
      "1.0\n"
     ]
    }
   ],
   "source": [
    "# accuracy of the SKLEARN model trained on same train set on the same test set\n",
    "accuracy_sklearn(X_test,y_test,clf)"
   ]
  }
 ],
 "metadata": {
  "kernelspec": {
   "display_name": "Python 3",
   "language": "python",
   "name": "python3"
  },
  "language_info": {
   "codemirror_mode": {
    "name": "ipython",
    "version": 3
   },
   "file_extension": ".py",
   "mimetype": "text/x-python",
   "name": "python",
   "nbconvert_exporter": "python",
   "pygments_lexer": "ipython3",
   "version": "3.7.6"
  }
 },
 "nbformat": 4,
 "nbformat_minor": 5
}
