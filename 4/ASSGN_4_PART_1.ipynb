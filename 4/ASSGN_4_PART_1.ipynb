{
 "cells": [
  {
   "cell_type": "code",
   "execution_count": 1,
   "metadata": {},
   "outputs": [],
   "source": [
    "# importing modules\n",
    "import numpy as np \n",
    "import pandas as pd\n",
    "import matplotlib.pyplot as plt\n",
    "from scipy.io import loadmat\n",
    "from sklearn.tree import DecisionTreeClassifier\n",
    "from sklearn.ensemble import RandomForestClassifier\n",
    "from sklearn.model_selection import cross_val_score\n",
    "from sklearn.model_selection import cross_validate\n",
    "from sklearn.metrics import accuracy_score\n",
    "from sklearn.model_selection import validation_curve"
   ]
  },
  {
   "cell_type": "code",
   "execution_count": 2,
   "metadata": {},
   "outputs": [],
   "source": [
    "# loading the mat file\n",
    "XR = loadmat('annualrainfall.mat')"
   ]
  },
  {
   "cell_type": "code",
   "execution_count": 3,
   "metadata": {},
   "outputs": [],
   "source": [
    "XR = XR[\"XR\"]"
   ]
  },
  {
   "cell_type": "code",
   "execution_count": 4,
   "metadata": {},
   "outputs": [
    {
     "data": {
      "text/plain": [
       "(357, 118)"
      ]
     },
     "execution_count": 4,
     "metadata": {},
     "output_type": "execute_result"
    }
   ],
   "source": [
    "XR.shape"
   ]
  },
  {
   "cell_type": "code",
   "execution_count": 5,
   "metadata": {},
   "outputs": [],
   "source": [
    "# conversion into dataframe for ease in visualisation\n",
    "df = pd.DataFrame(XR.T)"
   ]
  },
  {
   "cell_type": "code",
   "execution_count": 6,
   "metadata": {},
   "outputs": [
    {
     "data": {
      "text/html": [
       "<div>\n",
       "<style scoped>\n",
       "    .dataframe tbody tr th:only-of-type {\n",
       "        vertical-align: middle;\n",
       "    }\n",
       "\n",
       "    .dataframe tbody tr th {\n",
       "        vertical-align: top;\n",
       "    }\n",
       "\n",
       "    .dataframe thead th {\n",
       "        text-align: right;\n",
       "    }\n",
       "</style>\n",
       "<table border=\"1\" class=\"dataframe\">\n",
       "  <thead>\n",
       "    <tr style=\"text-align: right;\">\n",
       "      <th></th>\n",
       "      <th>0</th>\n",
       "      <th>1</th>\n",
       "      <th>2</th>\n",
       "      <th>3</th>\n",
       "      <th>4</th>\n",
       "      <th>5</th>\n",
       "      <th>6</th>\n",
       "      <th>7</th>\n",
       "      <th>8</th>\n",
       "      <th>9</th>\n",
       "      <th>...</th>\n",
       "      <th>347</th>\n",
       "      <th>348</th>\n",
       "      <th>349</th>\n",
       "      <th>350</th>\n",
       "      <th>351</th>\n",
       "      <th>352</th>\n",
       "      <th>353</th>\n",
       "      <th>354</th>\n",
       "      <th>355</th>\n",
       "      <th>356</th>\n",
       "    </tr>\n",
       "  </thead>\n",
       "  <tbody>\n",
       "    <tr>\n",
       "      <th>0</th>\n",
       "      <td>0.719022</td>\n",
       "      <td>0.799972</td>\n",
       "      <td>1.116379</td>\n",
       "      <td>0.764488</td>\n",
       "      <td>0.923383</td>\n",
       "      <td>0.961330</td>\n",
       "      <td>0.558784</td>\n",
       "      <td>1.043538</td>\n",
       "      <td>2.035055</td>\n",
       "      <td>2.412407</td>\n",
       "      <td>...</td>\n",
       "      <td>13.020404</td>\n",
       "      <td>12.291794</td>\n",
       "      <td>12.565416</td>\n",
       "      <td>12.688719</td>\n",
       "      <td>12.852414</td>\n",
       "      <td>11.667012</td>\n",
       "      <td>12.174392</td>\n",
       "      <td>12.512038</td>\n",
       "      <td>10.399852</td>\n",
       "      <td>11.287784</td>\n",
       "    </tr>\n",
       "    <tr>\n",
       "      <th>1</th>\n",
       "      <td>2.572195</td>\n",
       "      <td>2.358573</td>\n",
       "      <td>3.817571</td>\n",
       "      <td>2.544322</td>\n",
       "      <td>1.777028</td>\n",
       "      <td>1.908791</td>\n",
       "      <td>0.716344</td>\n",
       "      <td>3.693454</td>\n",
       "      <td>6.151360</td>\n",
       "      <td>4.426207</td>\n",
       "      <td>...</td>\n",
       "      <td>11.486169</td>\n",
       "      <td>10.682952</td>\n",
       "      <td>10.680328</td>\n",
       "      <td>10.680328</td>\n",
       "      <td>11.080315</td>\n",
       "      <td>10.112830</td>\n",
       "      <td>10.391051</td>\n",
       "      <td>10.737137</td>\n",
       "      <td>9.187904</td>\n",
       "      <td>9.791919</td>\n",
       "    </tr>\n",
       "    <tr>\n",
       "      <th>2</th>\n",
       "      <td>5.115582</td>\n",
       "      <td>4.459389</td>\n",
       "      <td>5.715812</td>\n",
       "      <td>5.017730</td>\n",
       "      <td>3.644102</td>\n",
       "      <td>3.152490</td>\n",
       "      <td>1.511983</td>\n",
       "      <td>5.075399</td>\n",
       "      <td>7.259941</td>\n",
       "      <td>4.552429</td>\n",
       "      <td>...</td>\n",
       "      <td>9.685181</td>\n",
       "      <td>9.213934</td>\n",
       "      <td>9.213934</td>\n",
       "      <td>9.213934</td>\n",
       "      <td>9.445984</td>\n",
       "      <td>8.772028</td>\n",
       "      <td>8.985728</td>\n",
       "      <td>9.214482</td>\n",
       "      <td>8.054785</td>\n",
       "      <td>8.523733</td>\n",
       "    </tr>\n",
       "    <tr>\n",
       "      <th>3</th>\n",
       "      <td>0.509786</td>\n",
       "      <td>0.649587</td>\n",
       "      <td>1.357004</td>\n",
       "      <td>0.584740</td>\n",
       "      <td>0.878721</td>\n",
       "      <td>0.927881</td>\n",
       "      <td>0.002060</td>\n",
       "      <td>1.601084</td>\n",
       "      <td>2.431932</td>\n",
       "      <td>2.139452</td>\n",
       "      <td>...</td>\n",
       "      <td>10.281640</td>\n",
       "      <td>9.984426</td>\n",
       "      <td>9.984426</td>\n",
       "      <td>9.977869</td>\n",
       "      <td>10.129921</td>\n",
       "      <td>9.474487</td>\n",
       "      <td>9.726133</td>\n",
       "      <td>9.926839</td>\n",
       "      <td>8.654893</td>\n",
       "      <td>9.182062</td>\n",
       "    </tr>\n",
       "    <tr>\n",
       "      <th>4</th>\n",
       "      <td>0.600234</td>\n",
       "      <td>1.078375</td>\n",
       "      <td>1.584306</td>\n",
       "      <td>0.753628</td>\n",
       "      <td>1.811034</td>\n",
       "      <td>2.033962</td>\n",
       "      <td>0.332660</td>\n",
       "      <td>1.851805</td>\n",
       "      <td>3.144972</td>\n",
       "      <td>3.733844</td>\n",
       "      <td>...</td>\n",
       "      <td>11.919070</td>\n",
       "      <td>11.156557</td>\n",
       "      <td>11.156557</td>\n",
       "      <td>11.156557</td>\n",
       "      <td>11.543451</td>\n",
       "      <td>10.539118</td>\n",
       "      <td>10.844063</td>\n",
       "      <td>11.189535</td>\n",
       "      <td>9.524974</td>\n",
       "      <td>10.185022</td>\n",
       "    </tr>\n",
       "  </tbody>\n",
       "</table>\n",
       "<p>5 rows × 357 columns</p>\n",
       "</div>"
      ],
      "text/plain": [
       "        0         1         2         3         4         5         6    \\\n",
       "0  0.719022  0.799972  1.116379  0.764488  0.923383  0.961330  0.558784   \n",
       "1  2.572195  2.358573  3.817571  2.544322  1.777028  1.908791  0.716344   \n",
       "2  5.115582  4.459389  5.715812  5.017730  3.644102  3.152490  1.511983   \n",
       "3  0.509786  0.649587  1.357004  0.584740  0.878721  0.927881  0.002060   \n",
       "4  0.600234  1.078375  1.584306  0.753628  1.811034  2.033962  0.332660   \n",
       "\n",
       "        7         8         9    ...        347        348        349  \\\n",
       "0  1.043538  2.035055  2.412407  ...  13.020404  12.291794  12.565416   \n",
       "1  3.693454  6.151360  4.426207  ...  11.486169  10.682952  10.680328   \n",
       "2  5.075399  7.259941  4.552429  ...   9.685181   9.213934   9.213934   \n",
       "3  1.601084  2.431932  2.139452  ...  10.281640   9.984426   9.984426   \n",
       "4  1.851805  3.144972  3.733844  ...  11.919070  11.156557  11.156557   \n",
       "\n",
       "         350        351        352        353        354        355        356  \n",
       "0  12.688719  12.852414  11.667012  12.174392  12.512038  10.399852  11.287784  \n",
       "1  10.680328  11.080315  10.112830  10.391051  10.737137   9.187904   9.791919  \n",
       "2   9.213934   9.445984   8.772028   8.985728   9.214482   8.054785   8.523733  \n",
       "3   9.977869  10.129921   9.474487   9.726133   9.926839   8.654893   9.182062  \n",
       "4  11.156557  11.543451  10.539118  10.844063  11.189535   9.524974  10.185022  \n",
       "\n",
       "[5 rows x 357 columns]"
      ]
     },
     "execution_count": 6,
     "metadata": {},
     "output_type": "execute_result"
    }
   ],
   "source": [
    "df.head()"
   ]
  },
  {
   "cell_type": "code",
   "execution_count": 7,
   "metadata": {},
   "outputs": [
    {
     "name": "stdout",
     "output_type": "stream",
     "text": [
      "Total over all locations per year\n",
      "\n",
      "0      2419.465229\n",
      "1      2512.018018\n",
      "2      2667.357994\n",
      "3      2327.246610\n",
      "4      2306.637001\n",
      "          ...     \n",
      "113    2320.219852\n",
      "114    2307.336725\n",
      "115    2568.183404\n",
      "116    2575.166233\n",
      "117    2379.061657\n",
      "Length: 118, dtype: float64\n"
     ]
    }
   ],
   "source": [
    "# Question 1 \n",
    "year_totals = np.sum(df,axis=1)\n",
    "print(\"Total over all locations per year\\n\")\n",
    "print(year_totals)"
   ]
  },
  {
   "cell_type": "code",
   "execution_count": 8,
   "metadata": {},
   "outputs": [
    {
     "name": "stdout",
     "output_type": "stream",
     "text": [
      "Mean : 2731.5638988707724\n",
      "Standard Deviation:  266.89890593445193\n"
     ]
    }
   ],
   "source": [
    "# Question 1\n",
    "mean = np.mean(year_totals)\n",
    "stdev = np.std(year_totals)\n",
    "print(\"Mean :\",mean)\n",
    "print(\"Standard Deviation: \",stdev)"
   ]
  },
  {
   "cell_type": "code",
   "execution_count": 9,
   "metadata": {},
   "outputs": [],
   "source": [
    "# Question 2\n",
    "label = np.where(year_totals>mean+stdev,1,0)\n",
    "label = np.where(year_totals<mean-stdev,-1,label)\n",
    "label = label.reshape((-1,1))"
   ]
  },
  {
   "cell_type": "code",
   "execution_count": 10,
   "metadata": {},
   "outputs": [],
   "source": [
    "# labels are added to the dataframe\n",
    "df['label'] = label"
   ]
  },
  {
   "cell_type": "code",
   "execution_count": 11,
   "metadata": {},
   "outputs": [
    {
     "data": {
      "text/html": [
       "<div>\n",
       "<style scoped>\n",
       "    .dataframe tbody tr th:only-of-type {\n",
       "        vertical-align: middle;\n",
       "    }\n",
       "\n",
       "    .dataframe tbody tr th {\n",
       "        vertical-align: top;\n",
       "    }\n",
       "\n",
       "    .dataframe thead th {\n",
       "        text-align: right;\n",
       "    }\n",
       "</style>\n",
       "<table border=\"1\" class=\"dataframe\">\n",
       "  <thead>\n",
       "    <tr style=\"text-align: right;\">\n",
       "      <th></th>\n",
       "      <th>0</th>\n",
       "      <th>1</th>\n",
       "      <th>2</th>\n",
       "      <th>3</th>\n",
       "      <th>4</th>\n",
       "      <th>5</th>\n",
       "      <th>6</th>\n",
       "      <th>7</th>\n",
       "      <th>8</th>\n",
       "      <th>9</th>\n",
       "      <th>...</th>\n",
       "      <th>348</th>\n",
       "      <th>349</th>\n",
       "      <th>350</th>\n",
       "      <th>351</th>\n",
       "      <th>352</th>\n",
       "      <th>353</th>\n",
       "      <th>354</th>\n",
       "      <th>355</th>\n",
       "      <th>356</th>\n",
       "      <th>label</th>\n",
       "    </tr>\n",
       "  </thead>\n",
       "  <tbody>\n",
       "    <tr>\n",
       "      <th>0</th>\n",
       "      <td>0.719022</td>\n",
       "      <td>0.799972</td>\n",
       "      <td>1.116379</td>\n",
       "      <td>0.764488</td>\n",
       "      <td>0.923383</td>\n",
       "      <td>0.961330</td>\n",
       "      <td>0.558784</td>\n",
       "      <td>1.043538</td>\n",
       "      <td>2.035055</td>\n",
       "      <td>2.412407</td>\n",
       "      <td>...</td>\n",
       "      <td>12.291794</td>\n",
       "      <td>12.565416</td>\n",
       "      <td>12.688719</td>\n",
       "      <td>12.852414</td>\n",
       "      <td>11.667012</td>\n",
       "      <td>12.174392</td>\n",
       "      <td>12.512038</td>\n",
       "      <td>10.399852</td>\n",
       "      <td>11.287784</td>\n",
       "      <td>-1</td>\n",
       "    </tr>\n",
       "    <tr>\n",
       "      <th>1</th>\n",
       "      <td>2.572195</td>\n",
       "      <td>2.358573</td>\n",
       "      <td>3.817571</td>\n",
       "      <td>2.544322</td>\n",
       "      <td>1.777028</td>\n",
       "      <td>1.908791</td>\n",
       "      <td>0.716344</td>\n",
       "      <td>3.693454</td>\n",
       "      <td>6.151360</td>\n",
       "      <td>4.426207</td>\n",
       "      <td>...</td>\n",
       "      <td>10.682952</td>\n",
       "      <td>10.680328</td>\n",
       "      <td>10.680328</td>\n",
       "      <td>11.080315</td>\n",
       "      <td>10.112830</td>\n",
       "      <td>10.391051</td>\n",
       "      <td>10.737137</td>\n",
       "      <td>9.187904</td>\n",
       "      <td>9.791919</td>\n",
       "      <td>0</td>\n",
       "    </tr>\n",
       "    <tr>\n",
       "      <th>2</th>\n",
       "      <td>5.115582</td>\n",
       "      <td>4.459389</td>\n",
       "      <td>5.715812</td>\n",
       "      <td>5.017730</td>\n",
       "      <td>3.644102</td>\n",
       "      <td>3.152490</td>\n",
       "      <td>1.511983</td>\n",
       "      <td>5.075399</td>\n",
       "      <td>7.259941</td>\n",
       "      <td>4.552429</td>\n",
       "      <td>...</td>\n",
       "      <td>9.213934</td>\n",
       "      <td>9.213934</td>\n",
       "      <td>9.213934</td>\n",
       "      <td>9.445984</td>\n",
       "      <td>8.772028</td>\n",
       "      <td>8.985728</td>\n",
       "      <td>9.214482</td>\n",
       "      <td>8.054785</td>\n",
       "      <td>8.523733</td>\n",
       "      <td>0</td>\n",
       "    </tr>\n",
       "    <tr>\n",
       "      <th>3</th>\n",
       "      <td>0.509786</td>\n",
       "      <td>0.649587</td>\n",
       "      <td>1.357004</td>\n",
       "      <td>0.584740</td>\n",
       "      <td>0.878721</td>\n",
       "      <td>0.927881</td>\n",
       "      <td>0.002060</td>\n",
       "      <td>1.601084</td>\n",
       "      <td>2.431932</td>\n",
       "      <td>2.139452</td>\n",
       "      <td>...</td>\n",
       "      <td>9.984426</td>\n",
       "      <td>9.984426</td>\n",
       "      <td>9.977869</td>\n",
       "      <td>10.129921</td>\n",
       "      <td>9.474487</td>\n",
       "      <td>9.726133</td>\n",
       "      <td>9.926839</td>\n",
       "      <td>8.654893</td>\n",
       "      <td>9.182062</td>\n",
       "      <td>-1</td>\n",
       "    </tr>\n",
       "    <tr>\n",
       "      <th>4</th>\n",
       "      <td>0.600234</td>\n",
       "      <td>1.078375</td>\n",
       "      <td>1.584306</td>\n",
       "      <td>0.753628</td>\n",
       "      <td>1.811034</td>\n",
       "      <td>2.033962</td>\n",
       "      <td>0.332660</td>\n",
       "      <td>1.851805</td>\n",
       "      <td>3.144972</td>\n",
       "      <td>3.733844</td>\n",
       "      <td>...</td>\n",
       "      <td>11.156557</td>\n",
       "      <td>11.156557</td>\n",
       "      <td>11.156557</td>\n",
       "      <td>11.543451</td>\n",
       "      <td>10.539118</td>\n",
       "      <td>10.844063</td>\n",
       "      <td>11.189535</td>\n",
       "      <td>9.524974</td>\n",
       "      <td>10.185022</td>\n",
       "      <td>-1</td>\n",
       "    </tr>\n",
       "  </tbody>\n",
       "</table>\n",
       "<p>5 rows × 358 columns</p>\n",
       "</div>"
      ],
      "text/plain": [
       "          0         1         2         3         4         5         6  \\\n",
       "0  0.719022  0.799972  1.116379  0.764488  0.923383  0.961330  0.558784   \n",
       "1  2.572195  2.358573  3.817571  2.544322  1.777028  1.908791  0.716344   \n",
       "2  5.115582  4.459389  5.715812  5.017730  3.644102  3.152490  1.511983   \n",
       "3  0.509786  0.649587  1.357004  0.584740  0.878721  0.927881  0.002060   \n",
       "4  0.600234  1.078375  1.584306  0.753628  1.811034  2.033962  0.332660   \n",
       "\n",
       "          7         8         9  ...        348        349        350  \\\n",
       "0  1.043538  2.035055  2.412407  ...  12.291794  12.565416  12.688719   \n",
       "1  3.693454  6.151360  4.426207  ...  10.682952  10.680328  10.680328   \n",
       "2  5.075399  7.259941  4.552429  ...   9.213934   9.213934   9.213934   \n",
       "3  1.601084  2.431932  2.139452  ...   9.984426   9.984426   9.977869   \n",
       "4  1.851805  3.144972  3.733844  ...  11.156557  11.156557  11.156557   \n",
       "\n",
       "         351        352        353        354        355        356  label  \n",
       "0  12.852414  11.667012  12.174392  12.512038  10.399852  11.287784     -1  \n",
       "1  11.080315  10.112830  10.391051  10.737137   9.187904   9.791919      0  \n",
       "2   9.445984   8.772028   8.985728   9.214482   8.054785   8.523733      0  \n",
       "3  10.129921   9.474487   9.726133   9.926839   8.654893   9.182062     -1  \n",
       "4  11.543451  10.539118  10.844063  11.189535   9.524974  10.185022     -1  \n",
       "\n",
       "[5 rows x 358 columns]"
      ]
     },
     "execution_count": 11,
     "metadata": {},
     "output_type": "execute_result"
    }
   ],
   "source": [
    "df.head()"
   ]
  },
  {
   "cell_type": "code",
   "execution_count": 12,
   "metadata": {},
   "outputs": [],
   "source": [
    "X = df.iloc[:,:-1]\n",
    "Y = df.iloc[:,-1]"
   ]
  },
  {
   "cell_type": "code",
   "execution_count": 13,
   "metadata": {},
   "outputs": [
    {
     "name": "stdout",
     "output_type": "stream",
     "text": [
      "X_train shape:  (100, 357)\n",
      "X_test shape:  (18, 357)\n"
     ]
    }
   ],
   "source": [
    "# preparing the train and test sets using 100 years for train only\n",
    "X_train = X.iloc[0:100,:]\n",
    "X_test = X.iloc[100:,:]\n",
    "\n",
    "Y_train = Y.iloc[0:100]\n",
    "Y_test = Y.iloc[100:]\n",
    "\n",
    "print(\"X_train shape: \",X_train.shape)\n",
    "print(\"X_test shape: \",X_test.shape)"
   ]
  },
  {
   "cell_type": "code",
   "execution_count": 14,
   "metadata": {},
   "outputs": [],
   "source": [
    "# Question 3 \n",
    "# Training the decision tree with 5-fold cross validation\n",
    "clf = DecisionTreeClassifier(max_depth=10,random_state=0)\n",
    "scores = cross_validate(estimator = clf, X = X_train,y= Y_train, cv=5,return_estimator=True)\n",
    "clf = clf.fit(X_train, Y_train)"
   ]
  },
  {
   "cell_type": "code",
   "execution_count": 15,
   "metadata": {},
   "outputs": [],
   "source": [
    "train_error = []\n",
    "test_error = []\n",
    "for i in range(5):\n",
    "    train_outputs = scores[\"estimator\"][i].predict(X_train)\n",
    "    preds = scores[\"estimator\"][i].predict(X_test)\n",
    "    train_error.append(1-accuracy_score(y_true = Y_train,y_pred = train_outputs))\n",
    "    test_error.append(1-accuracy_score(y_true = Y_test,y_pred = preds))"
   ]
  },
  {
   "cell_type": "code",
   "execution_count": 16,
   "metadata": {},
   "outputs": [
    {
     "data": {
      "image/png": "[encoded data removed]",
      "text/plain": [
       "<Figure size 432x288 with 1 Axes>"
      ]
     },
     "metadata": {
      "needs_background": "light"
     },
     "output_type": "display_data"
    }
   ],
   "source": [
    "plt.plot(train_error)\n",
    "plt.title(\"Train Errors\")\n",
    "plt.show()"
   ]
  },
  {
   "cell_type": "code",
   "execution_count": 17,
   "metadata": {},
   "outputs": [
    {
     "data": {
      "image/png": "[encoded data removed]",
      "text/plain": [
       "<Figure size 432x288 with 1 Axes>"
      ]
     },
     "metadata": {
      "needs_background": "light"
     },
     "output_type": "display_data"
    }
   ],
   "source": [
    "plt.plot(test_error)\n",
    "plt.title(\"Test Errors\")\n",
    "plt.show()"
   ]
  },
  {
   "cell_type": "code",
   "execution_count": 18,
   "metadata": {},
   "outputs": [],
   "source": [
    "# Question 4\n",
    "# Training the random forest with 5-fold cross validation\n",
    "# Both train and test errors are seen improving\n",
    "rfclf = RandomForestClassifier(max_depth=10,random_state=0)\n",
    "scores = cross_validate(rfclf, X_train, Y_train, cv=5,return_estimator=True)\n",
    "rfclf = rfclf.fit(X_train, Y_train)"
   ]
  },
  {
   "cell_type": "code",
   "execution_count": 19,
   "metadata": {},
   "outputs": [],
   "source": [
    "train_error = []\n",
    "test_error = []\n",
    "for i in range(5):\n",
    "    train_outputs = scores[\"estimator\"][i].predict(X_train)\n",
    "    preds = scores[\"estimator\"][i].predict(X_test)\n",
    "    train_error.append(1-accuracy_score(y_true = Y_train,y_pred = train_outputs))\n",
    "    test_error.append(1-accuracy_score(y_true = Y_test,y_pred = preds))"
   ]
  },
  {
   "cell_type": "code",
   "execution_count": 20,
   "metadata": {},
   "outputs": [
    {
     "data": {
      "image/png": "[encoded data removed]",
      "text/plain": [
       "<Figure size 432x288 with 1 Axes>"
      ]
     },
     "metadata": {
      "needs_background": "light"
     },
     "output_type": "display_data"
    }
   ],
   "source": [
    "plt.plot(train_error)\n",
    "plt.title(\"Train Errors\")\n",
    "plt.show()"
   ]
  },
  {
   "cell_type": "code",
   "execution_count": 21,
   "metadata": {},
   "outputs": [
    {
     "data": {
      "image/png": "[encoded data removed]",
      "text/plain": [
       "<Figure size 432x288 with 1 Axes>"
      ]
     },
     "metadata": {
      "needs_background": "light"
     },
     "output_type": "display_data"
    }
   ],
   "source": [
    "plt.plot(test_error)\n",
    "plt.title(\"Test Errors\")\n",
    "plt.show()"
   ]
  },
  {
   "cell_type": "code",
   "execution_count": 22,
   "metadata": {},
   "outputs": [
    {
     "name": "stdout",
     "output_type": "stream",
     "text": [
      "Mean Rainfall for locations\n",
      "\n",
      "0       2.879478\n",
      "1       2.798381\n",
      "2       4.678337\n",
      "3       3.253128\n",
      "4       2.866147\n",
      "         ...    \n",
      "352    18.762887\n",
      "353    19.357414\n",
      "354    19.317927\n",
      "355    18.627022\n",
      "356    19.065612\n",
      "Length: 357, dtype: float64\n",
      "\n",
      "Std-dev of Rainfall for locations\n",
      "\n",
      "0       2.035299\n",
      "1       2.003111\n",
      "2       2.328049\n",
      "3       1.931908\n",
      "4       1.703730\n",
      "         ...    \n",
      "352     7.968767\n",
      "353     8.606350\n",
      "354     9.835775\n",
      "355     9.662201\n",
      "356    10.064099\n",
      "Length: 357, dtype: float64\n"
     ]
    }
   ],
   "source": [
    "# Question 5\n",
    "location_means = np.mean(df.iloc[:,:-1],axis=0)\n",
    "print(\"Mean Rainfall for locations\\n\")\n",
    "print(location_means)\n",
    "location_std = np.std(df.iloc[:,:-1],axis=0)\n",
    "print(\"\\nStd-dev of Rainfall for locations\\n\")\n",
    "print(location_std)"
   ]
  },
  {
   "cell_type": "code",
   "execution_count": 23,
   "metadata": {},
   "outputs": [],
   "source": [
    "# Question 5\n",
    "labels = np.empty((df.shape[0],df.shape[1]-1))\n",
    "for i in range(labels.shape[0]):\n",
    "    for j in range(labels.shape[1]):\n",
    "        if(df.iloc[i,j] > location_means[j]+location_std[j]):\n",
    "            labels[i,j]=1\n",
    "        elif(df.iloc[i,j] < location_means[j]-location_std[j]):\n",
    "            labels[i,j]=-1\n",
    "        else:\n",
    "            labels[i,j]=0\n",
    "        "
   ]
  },
  {
   "cell_type": "code",
   "execution_count": 24,
   "metadata": {},
   "outputs": [
    {
     "data": {
      "text/plain": [
       "(118, 357)"
      ]
     },
     "execution_count": 24,
     "metadata": {},
     "output_type": "execute_result"
    }
   ],
   "source": [
    "labels.shape"
   ]
  },
  {
   "cell_type": "code",
   "execution_count": 25,
   "metadata": {},
   "outputs": [],
   "source": [
    "# Creating the new dataset \n",
    "new_X = []\n",
    "new_Y = []\n",
    "for i in range(labels.shape[0]):\n",
    "    for j in range(labels.shape[1]):\n",
    "        X_row = []\n",
    "        for k in range(labels.shape[1]):\n",
    "            if(k!=j):\n",
    "                X_row.append(df.iloc[i,k])\n",
    "        new_X.append(X_row)\n",
    "        new_Y.append(labels[i,j])"
   ]
  },
  {
   "cell_type": "code",
   "execution_count": 26,
   "metadata": {},
   "outputs": [],
   "source": [
    "new_X = []\n",
    "new_Y = []\n",
    "for i in range(labels.shape[0]):\n",
    "    for j in range(labels.shape[1]):\n",
    "        X_row = []\n",
    "        for k in range(labels.shape[1]):\n",
    "            if(k!=j):\n",
    "                X_row.append(df.iloc[i,k])\n",
    "        new_X.append(X_row)\n",
    "        new_Y.append(labels[i,j])"
   ]
  },
  {
   "cell_type": "code",
   "execution_count": 27,
   "metadata": {},
   "outputs": [],
   "source": [
    "new_X = np.array(new_X)\n",
    "new_Y = np.array(new_Y)"
   ]
  },
  {
   "cell_type": "code",
   "execution_count": 28,
   "metadata": {},
   "outputs": [
    {
     "data": {
      "text/plain": [
       "(42126, 356)"
      ]
     },
     "execution_count": 28,
     "metadata": {},
     "output_type": "execute_result"
    }
   ],
   "source": [
    "new_X.shape"
   ]
  },
  {
   "cell_type": "code",
   "execution_count": 29,
   "metadata": {},
   "outputs": [
    {
     "data": {
      "text/plain": [
       "(42126,)"
      ]
     },
     "execution_count": 29,
     "metadata": {},
     "output_type": "execute_result"
    }
   ],
   "source": [
    "new_Y.shape"
   ]
  },
  {
   "cell_type": "code",
   "execution_count": 30,
   "metadata": {},
   "outputs": [],
   "source": [
    "# preparing the train and test splits from new dataset\n",
    "# train set contains data rows derived from the first 100 years only\n",
    "new_X_train = new_X[:-6426,:]\n",
    "new_X_test = new_X[-6426:,:]\n",
    "new_Y_train = new_Y[:-6426]\n",
    "new_Y_test = new_Y[-6426:]"
   ]
  },
  {
   "cell_type": "code",
   "execution_count": 31,
   "metadata": {},
   "outputs": [],
   "source": [
    "# Question 6 \n",
    "# Training the decision tree with 5-fold cross validation\n",
    "clf = DecisionTreeClassifier(max_depth=10,random_state=0)\n",
    "scores = cross_validate(estimator = clf, X = new_X_train,y= new_Y_train, cv=5,return_estimator=True)\n",
    "clf = clf.fit(new_X_train, new_Y_train)"
   ]
  },
  {
   "cell_type": "code",
   "execution_count": 32,
   "metadata": {},
   "outputs": [],
   "source": [
    "feat_importance = clf.tree_.compute_feature_importances()\n",
    "top_idx = np.argsort(feat_importance)[:-10:-1]"
   ]
  },
  {
   "cell_type": "code",
   "execution_count": 33,
   "metadata": {},
   "outputs": [],
   "source": [
    "train_error = []\n",
    "test_error = []\n",
    "for i in range(5):\n",
    "    train_outputs = scores[\"estimator\"][i].predict(new_X_train)\n",
    "    preds = scores[\"estimator\"][i].predict(new_X_test)\n",
    "    train_error.append(1-accuracy_score(y_true = new_Y_train,y_pred = train_outputs))\n",
    "    test_error.append(1-accuracy_score(y_true = new_Y_test,y_pred = preds))"
   ]
  },
  {
   "cell_type": "code",
   "execution_count": 34,
   "metadata": {},
   "outputs": [
    {
     "data": {
      "image/png": "[encoded data removed]",
      "text/plain": [
       "<Figure size 432x288 with 1 Axes>"
      ]
     },
     "metadata": {
      "needs_background": "light"
     },
     "output_type": "display_data"
    }
   ],
   "source": [
    "plt.plot(train_error)\n",
    "plt.title(\"Train Errors\")\n",
    "plt.show()"
   ]
  },
  {
   "cell_type": "code",
   "execution_count": 35,
   "metadata": {},
   "outputs": [
    {
     "data": {
      "image/png": "[encoded data removed]",
      "text/plain": [
       "<Figure size 432x288 with 1 Axes>"
      ]
     },
     "metadata": {
      "needs_background": "light"
     },
     "output_type": "display_data"
    }
   ],
   "source": [
    "plt.plot(test_error)\n",
    "plt.title(\"Test Errors\")\n",
    "plt.show()"
   ]
  },
  {
   "cell_type": "code",
   "execution_count": 36,
   "metadata": {},
   "outputs": [],
   "source": [
    "# Question 7\n",
    "# Training the random forest with 5-fold cross validation\n",
    "# Both train and test errors are seen improving\n",
    "rfclf = RandomForestClassifier(max_depth=10,random_state=0)\n",
    "scores = cross_validate(rfclf, new_X_train, new_Y_train, cv=5,return_estimator=True)\n",
    "rfclf = rfclf.fit(new_X_train, new_Y_train)"
   ]
  },
  {
   "cell_type": "code",
   "execution_count": 37,
   "metadata": {},
   "outputs": [],
   "source": [
    "train_error = []\n",
    "test_error = []\n",
    "for i in range(5):\n",
    "    train_outputs = scores[\"estimator\"][i].predict(new_X_train)\n",
    "    preds = scores[\"estimator\"][i].predict(new_X_test)\n",
    "    train_error.append(1-accuracy_score(y_true = new_Y_train,y_pred = train_outputs))\n",
    "    test_error.append(1-accuracy_score(y_true = new_Y_test,y_pred = preds))"
   ]
  },
  {
   "cell_type": "code",
   "execution_count": 38,
   "metadata": {},
   "outputs": [
    {
     "data": {
      "image/png": "[encoded data removed]",
      "text/plain": [
       "<Figure size 432x288 with 1 Axes>"
      ]
     },
     "metadata": {
      "needs_background": "light"
     },
     "output_type": "display_data"
    }
   ],
   "source": [
    "plt.plot(train_error)\n",
    "plt.title(\"Train Errors\")\n",
    "plt.show()"
   ]
  },
  {
   "cell_type": "code",
   "execution_count": 39,
   "metadata": {},
   "outputs": [
    {
     "data": {
      "image/png": "[encoded data removed]",
      "text/plain": [
       "<Figure size 432x288 with 1 Axes>"
      ]
     },
     "metadata": {
      "needs_background": "light"
     },
     "output_type": "display_data"
    }
   ],
   "source": [
    "plt.plot(test_error)\n",
    "plt.title(\"Test Errors\")\n",
    "plt.show()"
   ]
  },
  {
   "cell_type": "code",
   "execution_count": null,
   "metadata": {},
   "outputs": [],
   "source": []
  },
  {
   "cell_type": "code",
   "execution_count": null,
   "metadata": {},
   "outputs": [],
   "source": []
  },
  {
   "cell_type": "code",
   "execution_count": null,
   "metadata": {},
   "outputs": [],
   "source": []
  }
 ],
 "metadata": {
  "kernelspec": {
   "display_name": "Python 3",
   "language": "python",
   "name": "python3"
  },
  "language_info": {
   "codemirror_mode": {
    "name": "ipython",
    "version": 3
   },
   "file_extension": ".py",
   "mimetype": "text/x-python",
   "name": "python",
   "nbconvert_exporter": "python",
   "pygments_lexer": "ipython3",
   "version": "3.7.6"
  }
 },
 "nbformat": 4,
 "nbformat_minor": 4
}
